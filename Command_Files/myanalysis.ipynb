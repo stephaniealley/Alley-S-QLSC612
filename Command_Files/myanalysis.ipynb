{
 "cells": [
  {
   "cell_type": "markdown",
   "metadata": {},
   "source": [
    "# An exploration of the relationship between intelligence and learning"
   ]
  },
  {
   "cell_type": "markdown",
   "metadata": {},
   "source": [
    "The relationship between brain structure and function has long been a central focus of neuroscientific endeavors. The dataset analyzed in this study consists of features that have been used to assess the ways in which brain size may relate to intelligence. In order to build on this investigation, we would like to examine how intelligence may related to learning. Furthermore, we aim to explore which particular intelligence features might have the greatest impact on learning."
   ]
  },
  {
   "cell_type": "markdown",
   "metadata": {},
   "source": [
    "## Load dataset\n",
    "The dataset includes 40 participants with Full Scale Intelligent Quotient (FSIQ), Verbal Intelligent Quotient (VIQ), and Performance Intelligent Quotient (PIQ) scores. The brain size of each individual was determined through magnetic resonance imaging (MRI). Height and weight for each participant, and gender was specified.\n",
    "\n",
    "Use pandas to load brain.csv data."
   ]
  },
  {
   "cell_type": "code",
   "execution_count": 12,
   "metadata": {},
   "outputs": [],
   "source": [
    "import requests\n",
    "\n",
    "url = 'https://files.osf.io/v1/resources/6q2ge/providers/osfstorage/5ed41c6bc7568603c02d50e7'\n",
    "r = requests.get(url, allow_redirects=True)   "
   ]
  },
  {
   "cell_type": "code",
   "execution_count": 16,
   "metadata": {},
   "outputs": [
    {
     "data": {
      "text/plain": [
       "1801"
      ]
     },
     "execution_count": 16,
     "metadata": {},
     "output_type": "execute_result"
    }
   ],
   "source": [
    "open('../Original_Data/brainsize.csv', 'wb').write(r.content)"
   ]
  },
  {
   "cell_type": "code",
   "execution_count": 17,
   "metadata": {},
   "outputs": [],
   "source": [
    "import os\n",
    "dirname = os.path.dirname('../Original_Data/')\n",
    "filename = os.path.join(dirname, 'brainsize.csv')"
   ]
  },
  {
   "cell_type": "code",
   "execution_count": 18,
   "metadata": {},
   "outputs": [
    {
     "data": {
      "text/html": [
       "<div>\n",
       "<style scoped>\n",
       "    .dataframe tbody tr th:only-of-type {\n",
       "        vertical-align: middle;\n",
       "    }\n",
       "\n",
       "    .dataframe tbody tr th {\n",
       "        vertical-align: top;\n",
       "    }\n",
       "\n",
       "    .dataframe thead th {\n",
       "        text-align: right;\n",
       "    }\n",
       "</style>\n",
       "<table border=\"1\" class=\"dataframe\">\n",
       "  <thead>\n",
       "    <tr style=\"text-align: right;\">\n",
       "      <th></th>\n",
       "      <th>Gender</th>\n",
       "      <th>FSIQ</th>\n",
       "      <th>VIQ</th>\n",
       "      <th>PIQ</th>\n",
       "      <th>Weight</th>\n",
       "      <th>Height</th>\n",
       "      <th>MRI_Count</th>\n",
       "    </tr>\n",
       "  </thead>\n",
       "  <tbody>\n",
       "    <tr>\n",
       "      <th>1</th>\n",
       "      <td>Female</td>\n",
       "      <td>133</td>\n",
       "      <td>132</td>\n",
       "      <td>124</td>\n",
       "      <td>118.0</td>\n",
       "      <td>64.5</td>\n",
       "      <td>816932</td>\n",
       "    </tr>\n",
       "    <tr>\n",
       "      <th>2</th>\n",
       "      <td>Male</td>\n",
       "      <td>140</td>\n",
       "      <td>150</td>\n",
       "      <td>124</td>\n",
       "      <td>NaN</td>\n",
       "      <td>72.5</td>\n",
       "      <td>1001121</td>\n",
       "    </tr>\n",
       "    <tr>\n",
       "      <th>3</th>\n",
       "      <td>Male</td>\n",
       "      <td>139</td>\n",
       "      <td>123</td>\n",
       "      <td>150</td>\n",
       "      <td>143.0</td>\n",
       "      <td>73.3</td>\n",
       "      <td>1038437</td>\n",
       "    </tr>\n",
       "    <tr>\n",
       "      <th>4</th>\n",
       "      <td>Male</td>\n",
       "      <td>133</td>\n",
       "      <td>129</td>\n",
       "      <td>128</td>\n",
       "      <td>172.0</td>\n",
       "      <td>68.8</td>\n",
       "      <td>965353</td>\n",
       "    </tr>\n",
       "    <tr>\n",
       "      <th>5</th>\n",
       "      <td>Female</td>\n",
       "      <td>137</td>\n",
       "      <td>132</td>\n",
       "      <td>134</td>\n",
       "      <td>147.0</td>\n",
       "      <td>65.0</td>\n",
       "      <td>951545</td>\n",
       "    </tr>\n",
       "  </tbody>\n",
       "</table>\n",
       "</div>"
      ],
      "text/plain": [
       "   Gender  FSIQ  VIQ  PIQ  Weight  Height  MRI_Count\n",
       "1  Female   133  132  124   118.0    64.5     816932\n",
       "2    Male   140  150  124     NaN    72.5    1001121\n",
       "3    Male   139  123  150   143.0    73.3    1038437\n",
       "4    Male   133  129  128   172.0    68.8     965353\n",
       "5  Female   137  132  134   147.0    65.0     951545"
      ]
     },
     "execution_count": 18,
     "metadata": {},
     "output_type": "execute_result"
    }
   ],
   "source": [
    "import pandas as pd\n",
    "\n",
    "csvfile = (filename)\n",
    "\n",
    "data = pd.read_csv(csvfile, sep=';', na_values='.', index_col=0)\n",
    "data.head()"
   ]
  },
  {
   "cell_type": "markdown",
   "metadata": {},
   "source": [
    "## Novel learning metric\n",
    "This study will focus on a novel learning metric, partY."
   ]
  },
  {
   "cell_type": "markdown",
   "metadata": {},
   "source": [
    "### Generate random variable"
   ]
  },
  {
   "cell_type": "markdown",
   "metadata": {},
   "source": [
    "#### Define random seed"
   ]
  },
  {
   "cell_type": "code",
   "execution_count": 9,
   "metadata": {},
   "outputs": [],
   "source": [
    "import numpy as np\n",
    "\n",
    "np.random.seed(1234)"
   ]
  },
  {
   "cell_type": "markdown",
   "metadata": {},
   "source": [
    "#### Define gamma continuous random variable"
   ]
  },
  {
   "cell_type": "code",
   "execution_count": 20,
   "metadata": {},
   "outputs": [],
   "source": [
    "from scipy import stats as sst\n",
    "\n",
    "g01 = sst.gamma(100)"
   ]
  },
  {
   "cell_type": "markdown",
   "metadata": {},
   "source": [
    "### Add learning metric to dataset"
   ]
  },
  {
   "cell_type": "code",
   "execution_count": 21,
   "metadata": {},
   "outputs": [],
   "source": [
    "# Create pandas Series containing partY\n",
    "partY = pd.Series(g01.rvs(size=data.shape[0], random_state=1234))\n",
    "\n",
    "# Add series to pandas Dataframe containing brain size data\n",
    "partY.index = np.arange(1,len(data)+1)\n",
    "data['partY'] = partY"
   ]
  },
  {
   "cell_type": "markdown",
   "metadata": {},
   "source": [
    "## Define multiple linear regression model"
   ]
  },
  {
   "cell_type": "markdown",
   "metadata": {},
   "source": [
    "In order to investigate the relationship between learning and intelligence, we will use the features in the brain size dataset to predict the learning metric, partY."
   ]
  },
  {
   "cell_type": "code",
   "execution_count": 53,
   "metadata": {},
   "outputs": [
    {
     "name": "stdout",
     "output_type": "stream",
     "text": [
      "                            OLS Regression Results                            \n",
      "==============================================================================\n",
      "Dep. Variable:                  partY   R-squared:                       0.235\n",
      "Model:                            OLS   Adj. R-squared:                  0.056\n",
      "Method:                 Least Squares   F-statistic:                     1.314\n",
      "Date:                Sun, 31 May 2020   Prob (F-statistic):              0.278\n",
      "Time:                        20:22:10   Log-Likelihood:                -132.96\n",
      "No. Observations:                  38   AIC:                             281.9\n",
      "Df Residuals:                      30   BIC:                             295.0\n",
      "Df Model:                           7                                         \n",
      "Covariance Type:            nonrobust                                         \n",
      "==================================================================================\n",
      "                     coef    std err          t      P>|t|      [0.025      0.975]\n",
      "----------------------------------------------------------------------------------\n",
      "Gender[Female]   158.5318     42.400      3.739      0.001      71.939     245.124\n",
      "Gender[Male]     167.9213     45.874      3.660      0.001      74.234     261.609\n",
      "FSIQ               1.7219      0.953      1.806      0.081      -0.225       3.669\n",
      "VIQ               -0.9229      0.564     -1.637      0.112      -2.074       0.229\n",
      "PIQ               -1.0215      0.533     -1.916      0.065      -2.110       0.067\n",
      "MRI_Count      -1.181e-05   3.46e-05     -0.341      0.735   -8.25e-05    5.89e-05\n",
      "Height            -0.2653      0.662     -0.400      0.692      -1.618       1.088\n",
      "Weight            -0.0779      0.094     -0.832      0.412      -0.269       0.113\n",
      "==============================================================================\n",
      "Omnibus:                        0.670   Durbin-Watson:                   2.108\n",
      "Prob(Omnibus):                  0.715   Jarque-Bera (JB):                0.704\n",
      "Skew:                           0.064   Prob(JB):                        0.703\n",
      "Kurtosis:                       2.346   Cond. No.                     3.88e+07\n",
      "==============================================================================\n",
      "\n",
      "Warnings:\n",
      "[1] Standard Errors assume that the covariance matrix of the errors is correctly specified.\n",
      "[2] The condition number is large, 3.88e+07. This might indicate that there are\n",
      "strong multicollinearity or other numerical problems.\n"
     ]
    }
   ],
   "source": [
    "from statsmodels.formula.api import ols\n",
    "\n",
    "model = ols('partY ~ FSIQ + VIQ + PIQ + MRI_Count + Height + Weight + Gender -1', data).fit()\n",
    "\n",
    "# Show OLS results for all regressors\n",
    "print(model.summary())"
   ]
  },
  {
   "cell_type": "markdown",
   "metadata": {},
   "source": [
    "### Perform F test"
   ]
  },
  {
   "cell_type": "code",
   "execution_count": 23,
   "metadata": {},
   "outputs": [
    {
     "name": "stdout",
     "output_type": "stream",
     "text": [
      "<F test: F=array([[333.59716747]]), p=1.1843527708668696e-26, df_denom=30, df_num=7>\n"
     ]
    }
   ],
   "source": [
    "# Define design matrix\n",
    "A = np.identity(len(model.params))\n",
    "A = A[1:,:]\n",
    "\n",
    "print(model.f_test(A))"
   ]
  },
  {
   "cell_type": "markdown",
   "metadata": {},
   "source": [
    "### Perform analysis of variance (ANOVA) test on fitted linear model"
   ]
  },
  {
   "cell_type": "code",
   "execution_count": 24,
   "metadata": {},
   "outputs": [
    {
     "data": {
      "text/html": [
       "<div>\n",
       "<style scoped>\n",
       "    .dataframe tbody tr th:only-of-type {\n",
       "        vertical-align: middle;\n",
       "    }\n",
       "\n",
       "    .dataframe tbody tr th {\n",
       "        vertical-align: top;\n",
       "    }\n",
       "\n",
       "    .dataframe thead th {\n",
       "        text-align: right;\n",
       "    }\n",
       "</style>\n",
       "<table border=\"1\" class=\"dataframe\">\n",
       "  <thead>\n",
       "    <tr style=\"text-align: right;\">\n",
       "      <th></th>\n",
       "      <th>df</th>\n",
       "      <th>sum_sq</th>\n",
       "      <th>mean_sq</th>\n",
       "      <th>F</th>\n",
       "      <th>PR(&gt;F)</th>\n",
       "    </tr>\n",
       "  </thead>\n",
       "  <tbody>\n",
       "    <tr>\n",
       "      <th>Gender</th>\n",
       "      <td>2.0</td>\n",
       "      <td>385194.500562</td>\n",
       "      <td>192597.250281</td>\n",
       "      <td>2372.583443</td>\n",
       "      <td>9.375415e-34</td>\n",
       "    </tr>\n",
       "    <tr>\n",
       "      <th>FSIQ</th>\n",
       "      <td>1.0</td>\n",
       "      <td>6.339638</td>\n",
       "      <td>6.339638</td>\n",
       "      <td>0.078097</td>\n",
       "      <td>7.818104e-01</td>\n",
       "    </tr>\n",
       "    <tr>\n",
       "      <th>VIQ</th>\n",
       "      <td>1.0</td>\n",
       "      <td>71.499072</td>\n",
       "      <td>71.499072</td>\n",
       "      <td>0.880789</td>\n",
       "      <td>3.554808e-01</td>\n",
       "    </tr>\n",
       "    <tr>\n",
       "      <th>PIQ</th>\n",
       "      <td>1.0</td>\n",
       "      <td>409.568213</td>\n",
       "      <td>409.568213</td>\n",
       "      <td>5.045424</td>\n",
       "      <td>3.220840e-02</td>\n",
       "    </tr>\n",
       "    <tr>\n",
       "      <th>MRI_Count</th>\n",
       "      <td>1.0</td>\n",
       "      <td>45.128207</td>\n",
       "      <td>45.128207</td>\n",
       "      <td>0.555929</td>\n",
       "      <td>4.617075e-01</td>\n",
       "    </tr>\n",
       "    <tr>\n",
       "      <th>Height</th>\n",
       "      <td>1.0</td>\n",
       "      <td>49.354768</td>\n",
       "      <td>49.354768</td>\n",
       "      <td>0.607996</td>\n",
       "      <td>4.416520e-01</td>\n",
       "    </tr>\n",
       "    <tr>\n",
       "      <th>Weight</th>\n",
       "      <td>1.0</td>\n",
       "      <td>56.151184</td>\n",
       "      <td>56.151184</td>\n",
       "      <td>0.691720</td>\n",
       "      <td>4.121514e-01</td>\n",
       "    </tr>\n",
       "    <tr>\n",
       "      <th>Residual</th>\n",
       "      <td>30.0</td>\n",
       "      <td>2435.285269</td>\n",
       "      <td>81.176176</td>\n",
       "      <td>NaN</td>\n",
       "      <td>NaN</td>\n",
       "    </tr>\n",
       "  </tbody>\n",
       "</table>\n",
       "</div>"
      ],
      "text/plain": [
       "             df         sum_sq        mean_sq            F        PR(>F)\n",
       "Gender      2.0  385194.500562  192597.250281  2372.583443  9.375415e-34\n",
       "FSIQ        1.0       6.339638       6.339638     0.078097  7.818104e-01\n",
       "VIQ         1.0      71.499072      71.499072     0.880789  3.554808e-01\n",
       "PIQ         1.0     409.568213     409.568213     5.045424  3.220840e-02\n",
       "MRI_Count   1.0      45.128207      45.128207     0.555929  4.617075e-01\n",
       "Height      1.0      49.354768      49.354768     0.607996  4.416520e-01\n",
       "Weight      1.0      56.151184      56.151184     0.691720  4.121514e-01\n",
       "Residual   30.0    2435.285269      81.176176          NaN           NaN"
      ]
     },
     "execution_count": 24,
     "metadata": {},
     "output_type": "execute_result"
    }
   ],
   "source": [
    "from statsmodels.stats.anova import anova_lm\n",
    "\n",
    "anova_results = anova_lm(model)\n",
    "\n",
    "print(anova_results)"
   ]
  },
  {
   "cell_type": "markdown",
   "metadata": {},
   "source": [
    "We can see from the p-value generated by the F test above that we have achieved a significant result (p=1.184e-26) for predicting partY from the brain size dataset. By examining the ANOVA results, however, we observe that there does not appear to be a significant contribution from any of the intelligence scores."
   ]
  },
  {
   "cell_type": "markdown",
   "metadata": {},
   "source": [
    "### Examine effect of individual regressors\n",
    "We can assess the contribution of individual regressors via a partial regression plot. This will allow us to determine whether we might be able to remove any features that do not provide much information to the model."
   ]
  },
  {
   "cell_type": "code",
   "execution_count": 54,
   "metadata": {},
   "outputs": [
    {
     "data": {
      "image/png": "[encoded data removed]",
      "text/plain": [
       "<Figure size 864x576 with 8 Axes>"
      ]
     },
     "metadata": {
      "needs_background": "light"
     },
     "output_type": "display_data"
    }
   ],
   "source": [
    "from statsmodels.graphics.api import plot_partregress_grid\n",
    "import matplotlib.pyplot as plt\n",
    "\n",
    "fig = plt.figure(figsize=(12,8))\n",
    "fig = plot_partregress_grid(model, fig=fig)"
   ]
  },
  {
   "cell_type": "markdown",
   "metadata": {},
   "source": [
    "Partial regression demonstrate that MRI_Count, Height, and Weight do not add much information to the model. MRI_Count is a measure of brain size, which may or may not contribute to intelligence. Height and Weight, moreover, are measures of physical size which may or may not contribute to brain size. We test the importance of these features by defining a new model composed only of intelligence scores and gender."
   ]
  },
  {
   "cell_type": "markdown",
   "metadata": {},
   "source": [
    "## Multiple linear regression without brain size features"
   ]
  },
  {
   "cell_type": "code",
   "execution_count": 25,
   "metadata": {},
   "outputs": [
    {
     "name": "stdout",
     "output_type": "stream",
     "text": [
      "                            OLS Regression Results                            \n",
      "==============================================================================\n",
      "Dep. Variable:                  partY   R-squared:                       0.176\n",
      "Model:                            OLS   Adj. R-squared:                  0.082\n",
      "Method:                 Least Squares   F-statistic:                     1.875\n",
      "Date:                Sun, 31 May 2020   Prob (F-statistic):              0.137\n",
      "Time:                        19:14:53   Log-Likelihood:                -141.33\n",
      "No. Observations:                  40   AIC:                             292.7\n",
      "Df Residuals:                      35   BIC:                             301.1\n",
      "Df Model:                           4                                         \n",
      "Covariance Type:            nonrobust                                         \n",
      "==================================================================================\n",
      "                     coef    std err          t      P>|t|      [0.025      0.975]\n",
      "----------------------------------------------------------------------------------\n",
      "Gender[Female]   123.3500     11.196     11.017      0.000     100.621     146.079\n",
      "Gender[Male]     127.2951     11.868     10.726      0.000     103.203     151.388\n",
      "FSIQ               1.9460      0.860      2.263      0.030       0.200       3.692\n",
      "VIQ               -1.0427      0.502     -2.077      0.045      -2.062      -0.024\n",
      "PIQ               -1.1582      0.469     -2.467      0.019      -2.111      -0.205\n",
      "==============================================================================\n",
      "Omnibus:                        0.080   Durbin-Watson:                   2.353\n",
      "Prob(Omnibus):                  0.961   Jarque-Bera (JB):                0.059\n",
      "Skew:                           0.059   Prob(JB):                        0.971\n",
      "Kurtosis:                       2.853   Cond. No.                     2.30e+03\n",
      "==============================================================================\n",
      "\n",
      "Warnings:\n",
      "[1] Standard Errors assume that the covariance matrix of the errors is correctly specified.\n",
      "[2] The condition number is large, 2.3e+03. This might indicate that there are\n",
      "strong multicollinearity or other numerical problems.\n"
     ]
    }
   ],
   "source": [
    "model = ols('partY ~ FSIQ + VIQ + PIQ + Gender -1', data).fit()\n",
    "\n",
    "# Show OLS results for all regressors\n",
    "print(model.summary())"
   ]
  },
  {
   "cell_type": "markdown",
   "metadata": {},
   "source": [
    "### Perform F test"
   ]
  },
  {
   "cell_type": "code",
   "execution_count": 26,
   "metadata": {},
   "outputs": [
    {
     "name": "stdout",
     "output_type": "stream",
     "text": [
      "<F test: F=array([[660.65835185]]), p=1.9829627250962393e-32, df_denom=35, df_num=4>\n"
     ]
    }
   ],
   "source": [
    "# Define design matrix\n",
    "A = np.identity(len(model.params))\n",
    "A = A[1:,:]\n",
    "\n",
    "print(model.f_test(A))"
   ]
  },
  {
   "cell_type": "markdown",
   "metadata": {},
   "source": [
    "### Perform ANOVA"
   ]
  },
  {
   "cell_type": "code",
   "execution_count": 27,
   "metadata": {},
   "outputs": [
    {
     "name": "stdout",
     "output_type": "stream",
     "text": [
      "            df         sum_sq        mean_sq            F        PR(>F)\n",
      "Gender     2.0  402973.851587  201486.925794  2569.485359  1.069723e-38\n",
      "FSIQ       1.0      19.923499      19.923499     0.254077  6.173775e-01\n",
      "VIQ        1.0      23.338030      23.338030     0.297621  5.888380e-01\n",
      "PIQ        1.0     477.283960     477.283960     6.086619  1.865907e-02\n",
      "Residual  35.0    2744.534963      78.415285          NaN           NaN\n"
     ]
    }
   ],
   "source": [
    "anova_results = anova_lm(model)\n",
    "\n",
    "print(anova_results)"
   ]
  },
  {
   "cell_type": "markdown",
   "metadata": {},
   "source": [
    "The F test p-value shows that this model is even more significant for the prediction of partY. Again, however, the ANOVA results do not indicate that much information is added to the model from the intelligence scores. Rather, the model appears to be largely driven by Gender. We test the important of Genter to the prediction of partY by defining a third model composed only of intelligence scores."
   ]
  },
  {
   "cell_type": "markdown",
   "metadata": {},
   "source": [
    "## Multiple linear regression without gender features"
   ]
  },
  {
   "cell_type": "code",
   "execution_count": 56,
   "metadata": {},
   "outputs": [
    {
     "name": "stdout",
     "output_type": "stream",
     "text": [
      "                                 OLS Regression Results                                \n",
      "=======================================================================================\n",
      "Dep. Variable:                  partY   R-squared (uncentered):                   0.970\n",
      "Model:                            OLS   Adj. R-squared (uncentered):              0.967\n",
      "Method:                 Least Squares   F-statistic:                              396.2\n",
      "Date:                Sun, 31 May 2020   Prob (F-statistic):                    3.69e-28\n",
      "Time:                        20:39:01   Log-Likelihood:                         -171.27\n",
      "No. Observations:                  40   AIC:                                      348.5\n",
      "Df Residuals:                      37   BIC:                                      353.6\n",
      "Df Model:                           3                                                  \n",
      "Covariance Type:            nonrobust                                                  \n",
      "==============================================================================\n",
      "                 coef    std err          t      P>|t|      [0.025      0.975]\n",
      "------------------------------------------------------------------------------\n",
      "FSIQ          -5.1234      1.145     -4.476      0.000      -7.443      -2.804\n",
      "VIQ            3.1889      0.638      4.996      0.000       1.896       4.482\n",
      "PIQ            2.8949      0.588      4.921      0.000       1.703       4.087\n",
      "==============================================================================\n",
      "Omnibus:                        1.050   Durbin-Watson:                   1.764\n",
      "Prob(Omnibus):                  0.592   Jarque-Bera (JB):                1.049\n",
      "Skew:                          -0.263   Prob(JB):                        0.592\n",
      "Kurtosis:                       2.407   Cond. No.                         97.2\n",
      "==============================================================================\n",
      "\n",
      "Warnings:\n",
      "[1] Standard Errors assume that the covariance matrix of the errors is correctly specified.\n"
     ]
    }
   ],
   "source": [
    "model = ols('partY ~ FSIQ + VIQ + PIQ -1', data).fit()\n",
    "\n",
    "# Show OLS results for all regressors\n",
    "print(model.summary())"
   ]
  },
  {
   "cell_type": "markdown",
   "metadata": {},
   "source": [
    "### Perform F test"
   ]
  },
  {
   "cell_type": "code",
   "execution_count": 50,
   "metadata": {},
   "outputs": [
    {
     "name": "stdout",
     "output_type": "stream",
     "text": [
      "<F test: F=array([[13.60665488]]), p=3.721074537843464e-05, df_denom=37, df_num=2>\n"
     ]
    }
   ],
   "source": [
    "# Define design matrix\n",
    "A = np.identity(len(model.params))\n",
    "A = A[1:,:]\n",
    "\n",
    "print(model.f_test(A))"
   ]
  },
  {
   "cell_type": "markdown",
   "metadata": {},
   "source": [
    "### Perform ANOVA"
   ]
  },
  {
   "cell_type": "code",
   "execution_count": 51,
   "metadata": {},
   "outputs": [
    {
     "name": "stdout",
     "output_type": "stream",
     "text": [
      "            df         sum_sq        mean_sq            F        PR(>F)\n",
      "FSIQ       1.0  384952.527551  384952.527551  1161.261213  1.513181e-29\n",
      "VIQ        1.0     995.122013     995.122013     3.001920  9.149517e-02\n",
      "PIQ        1.0    8025.959772    8025.959772    24.211390  1.802923e-05\n",
      "Residual  37.0   12265.322702     331.495208          NaN           NaN\n"
     ]
    }
   ],
   "source": [
    "anova_results = anova_lm(model)\n",
    "\n",
    "print(anova_results)"
   ]
  },
  {
   "cell_type": "markdown",
   "metadata": {},
   "source": [
    "The F test p-value for the prediction of partY is lower than the previous two models, but it is still well below the conventional threshold of p=0.05."
   ]
  },
  {
   "cell_type": "markdown",
   "metadata": {},
   "source": [
    "### Examine effect of individual regressors\n",
    "We can now assess the regression of each intelligence score individually."
   ]
  },
  {
   "cell_type": "code",
   "execution_count": 57,
   "metadata": {},
   "outputs": [
    {
     "data": {
      "image/png": "[encoded data removed]",
      "text/plain": [
       "<Figure size 864x576 with 3 Axes>"
      ]
     },
     "metadata": {
      "needs_background": "light"
     },
     "output_type": "display_data"
    }
   ],
   "source": [
    "fig = plt.figure(figsize=(12,8))\n",
    "fig = plot_partregress_grid(model, fig=fig)"
   ]
  },
  {
   "cell_type": "code",
   "execution_count": null,
   "metadata": {},
   "outputs": [],
   "source": []
  }
 ],
 "metadata": {
  "kernelspec": {
   "display_name": "Python 3",
   "language": "python",
   "name": "python3"
  },
  "language_info": {
   "codemirror_mode": {
    "name": "ipython",
    "version": 3
   },
   "file_extension": ".py",
   "mimetype": "text/x-python",
   "name": "python",
   "nbconvert_exporter": "python",
   "pygments_lexer": "ipython3",
   "version": "3.7.6"
  },
  "latex_envs": {
   "LaTeX_envs_menu_present": true,
   "autoclose": false,
   "autocomplete": true,
   "bibliofile": "biblio.bib",
   "cite_by": "apalike",
   "current_citInitial": 1,
   "eqLabelWithNumbers": true,
   "eqNumInitial": 1,
   "hotkeys": {
    "equation": "Ctrl-E",
    "itemize": "Ctrl-I"
   },
   "labels_anchors": false,
   "latex_user_defs": false,
   "report_style_numbering": false,
   "user_envs_cfg": false
  },
  "varInspector": {
   "cols": {
    "lenName": 16,
    "lenType": 16,
    "lenVar": 40
   },
   "kernels_config": {
    "python": {
     "delete_cmd_postfix": "",
     "delete_cmd_prefix": "del ",
     "library": "var_list.py",
     "varRefreshCmd": "print(var_dic_list())"
    },
    "r": {
     "delete_cmd_postfix": ") ",
     "delete_cmd_prefix": "rm(",
     "library": "var_list.r",
     "varRefreshCmd": "cat(var_dic_list()) "
    }
   },
   "types_to_exclude": [
    "module",
    "function",
    "builtin_function_or_method",
    "instance",
    "_Feature"
   ],
   "window_display": false
  }
 },
 "nbformat": 4,
 "nbformat_minor": 4
}
